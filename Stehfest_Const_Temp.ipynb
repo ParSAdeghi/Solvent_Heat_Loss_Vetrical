{
 "cells": [
  {
   "cell_type": "markdown",
   "metadata": {},
   "source": [
    "# Heat loss in the vertical section of a well"
   ]
  },
  {
   "cell_type": "markdown",
   "metadata": {},
   "source": [
    "In this case, we inject fluid at constant temperature and we obtain how much heat is being lost in the vertical section of the well"
   ]
  },
  {
   "cell_type": "markdown",
   "metadata": {},
   "source": [
    "## Importing libraries"
   ]
  },
  {
   "cell_type": "code",
   "execution_count": 1,
   "metadata": {},
   "outputs": [],
   "source": [
    "import scipy.special as scsp \n",
    "import numpy as np\n",
    "import pdb\n",
    "import matplotlib.pyplot as plt\n"
   ]
  },
  {
   "cell_type": "markdown",
   "metadata": {},
   "source": [
    "## Input Data"
   ]
  },
  {
   "cell_type": "code",
   "execution_count": 2,
   "metadata": {},
   "outputs": [],
   "source": [
    "kT=2.37E+05       #J/m.day.C\n",
    "MT=2.37E+06       #J/m3C\n",
    "rw=4.5            #inches\n",
    "re=4.5*100        #inches\n",
    "End_Time=20       #months\n",
    "Ts=200            #C\n",
    "T0=10             #C\n",
    "Time_Step=86400   #s\n",
    "r_step=0.1        #m\n",
    "Len_well=500      #m\n",
    "\n",
    "# Propane inputs\n",
    "q_solv = 300      #m3/day\n",
    "Cp=2.6            #kJ/kg.K\n",
    "C3_Density=493    #kg/m3\n",
    "\n",
    "# Butane inputs\n",
    "q_solv = 300      #m3/day\n",
    "Cp=2.6            #kJ/kg.K\n",
    "C3_Density=599    #kg/m3\n",
    "\n",
    "#Steam Inputs\n",
    "T_sat=226         #K\n",
    "P_sat=2.5e+6      #MPa\n",
    "q_steam=300       #m3/day\n",
    "Lv=2147.26        #kJ/kg\n",
    "Wat_Density=1000  #kg/m3"
   ]
  },
  {
   "cell_type": "markdown",
   "metadata": {},
   "source": [
    "## Unit Conversion"
   ]
  },
  {
   "cell_type": "code",
   "execution_count": 3,
   "metadata": {},
   "outputs": [],
   "source": [
    "kT=kT/86400;                 #J/m.s.C\n",
    "rw=rw*2.54/100               #m\n",
    "re=re*2.54/100               #m\n",
    "End_Time=End_Time*30*86400   #sec\n",
    "Ts=Ts+273.15                 #K\n",
    "T0=T0+273.15                 #K\n",
    "T_sat=T_sat+273.15           #K"
   ]
  },
  {
   "cell_type": "code",
   "execution_count": 4,
   "metadata": {},
   "outputs": [],
   "source": [
    "Time = np.arange(Time_Step, End_Time, Time_Step)\n",
    "r    = np.arange(rw,  re,  r_step)"
   ]
  },
  {
   "cell_type": "markdown",
   "metadata": {},
   "source": [
    "## Dimensionless"
   ]
  },
  {
   "cell_type": "code",
   "execution_count": 5,
   "metadata": {},
   "outputs": [
    {
     "data": {
      "text/plain": [
       "114"
      ]
     },
     "execution_count": 5,
     "metadata": {},
     "output_type": "execute_result"
    }
   ],
   "source": [
    "rD=r/rw\n",
    "alpha=kT/MT\n",
    "tD=alpha*Time/(rw**2)\n",
    "len(rD)"
   ]
  },
  {
   "cell_type": "code",
   "execution_count": 6,
   "metadata": {},
   "outputs": [
    {
     "data": {
      "text/plain": [
       "599"
      ]
     },
     "execution_count": 6,
     "metadata": {},
     "output_type": "execute_result"
    }
   ],
   "source": [
    "len(tD)"
   ]
  },
  {
   "cell_type": "code",
   "execution_count": 7,
   "metadata": {},
   "outputs": [],
   "source": [
    "def Lap_Function (s, rDD):\n",
    "    kth_zero_num = scsp.kv(0, rDD*np.sqrt(s))\n",
    "    kth_zero_denom = scsp.kv(0, np.sqrt(s))\n",
    "    TD_Lap = kth_zero_num/(s*kth_zero_denom)\n",
    "    return TD_Lap\n"
   ]
  },
  {
   "cell_type": "code",
   "execution_count": 8,
   "metadata": {},
   "outputs": [],
   "source": [
    "def Stehfest_Function (tDD, rDD):\n",
    "    num=14;\n",
    "    summ=0;\n",
    "    for n in range(num):\n",
    "        Lower_Bound = int(np.floor((n+2)/2))\n",
    "        Upper_Bound = int(np.minimum(n+1,num/2))\n",
    "              \n",
    "        summ2=0\n",
    "        for j in range(Lower_Bound,Upper_Bound+1):\n",
    "            summ2 = summ2+j**(num/2)*scsp.factorial(2*j)/(scsp.factorial(num/2-j)*scsp.factorial(j)*scsp.factorial(n+1-j)*scsp.factorial(j-1)*scsp.factorial(2*j-n-1))\n",
    "                        \n",
    "            \n",
    "        V=(-1)**(num/2+(n+1))*summ2\n",
    "        input_func = np.log(2)*(n+1)/tDD\n",
    "        \n",
    "        value_func = Lap_Function(input_func,rDD)\n",
    "        \n",
    "        summ = summ + V*value_func\n",
    "        \n",
    "    return np.log(2)*summ/tDD\n"
   ]
  },
  {
   "cell_type": "code",
   "execution_count": 9,
   "metadata": {},
   "outputs": [
    {
     "data": {
      "text/plain": [
       "(599, 114)"
      ]
     },
     "execution_count": 9,
     "metadata": {},
     "output_type": "execute_result"
    }
   ],
   "source": [
    "rows = int(len(tD))\n",
    "cols = int(len(rD))\n",
    "\n",
    "TD = []\n",
    "for i in range(rows):\n",
    "  row = []\n",
    "  for j in range(cols):\n",
    "    row.append(0)\n",
    "  TD.append(row)\n",
    "np.shape(TD)\n",
    "\n",
    "#TD = np.empty((rows, cols), int)\n",
    "#TD"
   ]
  },
  {
   "cell_type": "code",
   "execution_count": 10,
   "metadata": {},
   "outputs": [
    {
     "data": {
      "text/plain": [
       "(599, 114)"
      ]
     },
     "execution_count": 10,
     "metadata": {},
     "output_type": "execute_result"
    }
   ],
   "source": [
    "np.shape(TD)"
   ]
  },
  {
   "cell_type": "code",
   "execution_count": 11,
   "metadata": {},
   "outputs": [],
   "source": [
    "for mm in range(tD.shape[0]):\n",
    "    for nn in range(rD.shape[0]):\n",
    "        TD[mm][nn]=float(Stehfest_Function (tD[mm],rD[nn]))"
   ]
  },
  {
   "cell_type": "code",
   "execution_count": 12,
   "metadata": {},
   "outputs": [
    {
     "data": {
      "text/plain": [
       "numpy.ndarray"
      ]
     },
     "execution_count": 12,
     "metadata": {},
     "output_type": "execute_result"
    }
   ],
   "source": [
    "TD_Array=np.array(TD)\n",
    "type(TD_Array)"
   ]
  },
  {
   "cell_type": "code",
   "execution_count": 13,
   "metadata": {},
   "outputs": [
    {
     "data": {
      "text/plain": [
       "array([[226.00000025, 149.27283755, 103.93804814, ...,  10.        ,\n",
       "         10.        ,  10.        ],\n",
       "       [225.99999849, 159.98604009, 120.32121455, ...,  10.        ,\n",
       "         10.        ,  10.        ],\n",
       "       [225.9999986 , 165.15474188, 128.40623123, ...,  10.        ,\n",
       "         10.        ,  10.        ],\n",
       "       ...,\n",
       "       [225.99999985, 197.24342999, 179.72267453, ...,  24.01798245,\n",
       "         23.7538222 ,  23.4941784 ],\n",
       "       [225.99999943, 197.2483984 , 179.73066863, ...,  24.04014944,\n",
       "         23.77583196,  23.51602976],\n",
       "       [225.99999981, 197.25335502, 179.73864661, ...,  24.06229041,\n",
       "         23.79781619,  23.53785608]])"
      ]
     },
     "execution_count": 13,
     "metadata": {},
     "output_type": "execute_result"
    }
   ],
   "source": [
    "Temperature=(T_sat-T0)*TD_Array+T0-273.15\n",
    "Temperature"
   ]
  },
  {
   "cell_type": "code",
   "execution_count": 14,
   "metadata": {},
   "outputs": [
    {
     "data": {
      "text/plain": [
       "numpy.ndarray"
      ]
     },
     "execution_count": 14,
     "metadata": {},
     "output_type": "execute_result"
    }
   ],
   "source": [
    "type(Temperature)"
   ]
  },
  {
   "cell_type": "markdown",
   "metadata": {},
   "source": [
    "## Heat loss to the surrounding "
   ]
  },
  {
   "cell_type": "code",
   "execution_count": 15,
   "metadata": {},
   "outputs": [
    {
     "data": {
      "text/plain": [
       "(599,)"
      ]
     },
     "execution_count": 15,
     "metadata": {},
     "output_type": "execute_result"
    }
   ],
   "source": [
    "rows = int(len(tD))\n",
    "Q = []\n",
    "for i in range(rows):\n",
    "  Q.append(0)\n",
    "\n",
    "np.shape(Q)"
   ]
  },
  {
   "cell_type": "code",
   "execution_count": 16,
   "metadata": {},
   "outputs": [],
   "source": [
    "for mm in range(tD.shape[0]):\n",
    "    Q[mm] = -kT*(2*np.pi*rw*Len_well)*Time_Step*(Temperature[mm][1]-Temperature[mm][0])/(r_step*1.0E9)     #GJ"
   ]
  },
  {
   "cell_type": "code",
   "execution_count": 17,
   "metadata": {},
   "outputs": [],
   "source": [
    "Time_day = np.arange(Time_Step, End_Time, Time_Step)/86400"
   ]
  },
  {
   "cell_type": "code",
   "execution_count": 18,
   "metadata": {},
   "outputs": [
    {
     "data": {
      "text/plain": [
       "(599,)"
      ]
     },
     "execution_count": 18,
     "metadata": {},
     "output_type": "execute_result"
    }
   ],
   "source": [
    "np.shape(Q)"
   ]
  },
  {
   "cell_type": "code",
   "execution_count": 19,
   "metadata": {},
   "outputs": [
    {
     "data": {
      "text/plain": [
       "(599,)"
      ]
     },
     "execution_count": 19,
     "metadata": {},
     "output_type": "execute_result"
    }
   ],
   "source": [
    "np.shape(Time_day)"
   ]
  },
  {
   "cell_type": "code",
   "execution_count": 20,
   "metadata": {},
   "outputs": [
    {
     "data": {
      "image/png": "[encoded data removed]",
      "text/plain": [
       "<Figure size 432x288 with 1 Axes>"
      ]
     },
     "metadata": {
      "needs_background": "light"
     },
     "output_type": "display_data"
    }
   ],
   "source": [
    "plt.plot(Time_day,Q)\n",
    "plt.title('Heat Loss in Vertical Section - 230 C, 500 mD')\n",
    "plt.ylabel('Heat Loss (GJ/day)')\n",
    "plt.xlabel('Time (days)')\n",
    "plt.show()"
   ]
  },
  {
   "cell_type": "code",
   "execution_count": 21,
   "metadata": {},
   "outputs": [],
   "source": [
    "rows = int(len(tD))\n",
    "Steam_quality = []\n",
    "for i in range(rows):\n",
    "  Steam_quality.append(0)\n",
    "\n",
    "for mm in range(tD.shape[0]):\n",
    "    Steam_quality [mm] = 1-((Q[mm]*1.0E+6/Time_Step)/(Wat_Density*q_steam*Lv/86400))"
   ]
  },
  {
   "cell_type": "code",
   "execution_count": 22,
   "metadata": {},
   "outputs": [
    {
     "data": {
      "image/png": "[encoded data removed]",
      "text/plain": [
       "<Figure size 432x288 with 1 Axes>"
      ]
     },
     "metadata": {
      "needs_background": "light"
     },
     "output_type": "display_data"
    }
   ],
   "source": [
    "plt.plot(Time_day,Steam_quality)\n",
    "plt.title('SAGD, 2.5 MPa, 500 mD')\n",
    "plt.ylabel('Steam Quality Down-hole')\n",
    "plt.xlabel('Time (days)')\n",
    "plt.show()"
   ]
  },
  {
   "cell_type": "code",
   "execution_count": 23,
   "metadata": {},
   "outputs": [],
   "source": [
    "Temperature_Solv=(Ts-T0)*TD_Array+T0-273.15\n",
    "\n",
    "rows = int(len(tD))\n",
    "Q_solv = []\n",
    "for i in range(rows):\n",
    "  Q_solv.append(0)\n",
    "\n",
    "np.shape(Q_solv)\n",
    "\n",
    "for mm in range(tD.shape[0]):\n",
    "    Q_solv[mm] = -kT*(2*np.pi*rw*Len_well)*Time_Step*(Temperature_Solv[mm][1]-Temperature_Solv[mm][0])/(r_step*1.0E9)     #GJ\n",
    "\n",
    "rows = int(len(tD))\n",
    "Delta_Temp = []\n",
    "for i in range(rows):\n",
    "  Delta_Temp.append(0)\n",
    "\n",
    "for mm in range(tD.shape[0]):\n",
    "    Delta_Temp [mm] = (Q_solv[mm]*1.0E+6/Time_Step)/(C3_Density*q_solv*Cp/86400)\n"
   ]
  },
  {
   "cell_type": "code",
   "execution_count": 25,
   "metadata": {},
   "outputs": [
    {
     "data": {
      "image/png": "[encoded data removed]",
      "text/plain": [
       "<Figure size 432x288 with 1 Axes>"
      ]
     },
     "metadata": {
      "needs_background": "light"
     },
     "output_type": "display_data"
    }
   ],
   "source": [
    "plt.plot(Time_day,Delta_Temp)\n",
    "plt.title('Butane, 0.7 MPa, 230 C, 500 mD')\n",
    "plt.ylabel('Temperature Loss in Vertical Section')\n",
    "plt.xlabel('Time (days)')\n",
    "plt.show()"
   ]
  },
  {
   "cell_type": "code",
   "execution_count": null,
   "metadata": {},
   "outputs": [],
   "source": [
    "\n"
   ]
  }
 ],
 "metadata": {
  "kernelspec": {
   "display_name": "Python",
   "language": "python",
   "name": "conda-env-python-py"
  },
  "language_info": {
   "codemirror_mode": {
    "name": "ipython",
    "version": 3
   },
   "file_extension": ".py",
   "mimetype": "text/x-python",
   "name": "python",
   "nbconvert_exporter": "python",
   "pygments_lexer": "ipython3",
   "version": "3.6.11"
  }
 },
 "nbformat": 4,
 "nbformat_minor": 4
}
